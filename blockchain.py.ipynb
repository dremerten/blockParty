{
 "cells": [
  {
   "cell_type": "code",
   "execution_count": 23,
   "metadata": {
    "collapsed": true
   },
   "outputs": [],
   "source": [
    "# This module implements a common interface to many different secure hash and message digest algorithms.\n",
    "import hashlib"
   ]
  },
  {
   "cell_type": "code",
   "execution_count": 43,
   "metadata": {},
   "outputs": [
    {
     "data": {
      "text/plain": [
       "'cdc27e92b6f2567e94fa6d48448694b0d547ec91c0f869e103a5cd7ca5b77019'"
      ]
     },
     "execution_count": 43,
     "metadata": {},
     "output_type": "execute_result"
    }
   ],
   "source": [
    "# test1 in sha3_s56 algorithm\n",
    "test1 = hashlib.sha3_256()\n",
    "\n",
    "# Update the hash object with the string arg\n",
    "test1.update(b'This is just a test string')\n",
    "\n",
    "# Return the digest of the strings passed to the update() method so far. \n",
    "# This is a string of digest_size bytes which may contain non-ASCII characters, including null bytes.\n",
    "test1.digest()\n",
    "\n",
    "# Like digest() except the digest is returned as a string of double length, containing only hexadecimal digits. \n",
    "# This may be used to exchange the value safely in email or other non-binary environments.\n",
    "test1.hexdigest()"
   ]
  },
  {
   "cell_type": "code",
   "execution_count": 25,
   "metadata": {},
   "outputs": [
    {
     "data": {
      "text/plain": [
       "'a1f34fe4ada237379aee8b5ed8b694a8d12a48c48b6e352c6f9ee1b2e020c182'"
      ]
     },
     "execution_count": 25,
     "metadata": {},
     "output_type": "execute_result"
    }
   ],
   "source": [
    "test2 = hashlib.sha3_256()\n",
    "test2.update(b'This is just a test string of strings')\n",
    "test2.digest()\n",
    "test2.hexdigest()"
   ]
  },
  {
   "cell_type": "code",
   "execution_count": 26,
   "metadata": {
    "collapsed": true
   },
   "outputs": [],
   "source": [
    "# test block containing transactions\n",
    "t_block = {\n",
    "    'transaction' : [ \n",
    "        {\n",
    "            'from' : 'johnny',\n",
    "            'to' : 'frankie',\n",
    "            'amount' : 20,\n",
    "            'message' : \"Don't worry about it.\"\n",
    "            \n",
    "        },\n",
    "        {\n",
    "            'from' : 'mark',\n",
    "            'to' : 'luke',\n",
    "            'amount' : 2057,\n",
    "            'message' : 'xmas gift'\n",
    "            \n",
    "        },\n",
    "        {\n",
    "            'from' : 'yoda',\n",
    "            'to' : 'han',\n",
    "            'amount' : 267839,\n",
    "            'message' : 'For the bounty'\n",
    "            \n",
    "        },\n",
    "        \n",
    "    ]\n",
    "    \n",
    "}\n"
   ]
  },
  {
   "cell_type": "code",
   "execution_count": 27,
   "metadata": {},
   "outputs": [
    {
     "data": {
      "text/plain": [
       "{'transaction': [{'amount': 20,\n",
       "   'from': 'johnny',\n",
       "   'message': \"Don't worry about it.\",\n",
       "   'to': 'frankie'},\n",
       "  {'amount': 2057, 'from': 'mark', 'message': 'xmas gift', 'to': 'luke'},\n",
       "  {'amount': 267839,\n",
       "   'from': 'yoda',\n",
       "   'message': 'For the bounty',\n",
       "   'to': 'han'}]}"
      ]
     },
     "execution_count": 27,
     "metadata": {},
     "output_type": "execute_result"
    }
   ],
   "source": [
    "# The test block is not yet converted into byte format\n",
    "t_block"
   ]
  },
  {
   "cell_type": "markdown",
   "metadata": {},
   "source": [
    "### to convert the t_block into byte you must import pickle\n",
    "\n",
    "### What is pickle?\n",
    "\n",
    "### The pickle module implements binary protocols for serializing and de-serializing a Python object structure. “Pickling” is the process whereby a Python object hierarchy is converted into a byte stream, and “unpickling” is the inverse operation, whereby a byte stream (from a binary file or bytes-like object) is converted back into an object hierarchy.\n"
   ]
  },
  {
   "cell_type": "code",
   "execution_count": 28,
   "metadata": {
    "collapsed": true
   },
   "outputs": [],
   "source": [
    "# import pickle module\n",
    "import pickle"
   ]
  },
  {
   "cell_type": "code",
   "execution_count": 29,
   "metadata": {},
   "outputs": [
    {
     "data": {
      "text/plain": [
       "b\"\\x80\\x03}q\\x00X\\x0b\\x00\\x00\\x00transactionq\\x01]q\\x02(}q\\x03(X\\x04\\x00\\x00\\x00fromq\\x04X\\x06\\x00\\x00\\x00johnnyq\\x05X\\x02\\x00\\x00\\x00toq\\x06X\\x07\\x00\\x00\\x00frankieq\\x07X\\x06\\x00\\x00\\x00amountq\\x08K\\x14X\\x07\\x00\\x00\\x00messageq\\tX\\x15\\x00\\x00\\x00Don't worry about it.q\\nu}q\\x0b(h\\x04X\\x04\\x00\\x00\\x00markq\\x0ch\\x06X\\x04\\x00\\x00\\x00lukeq\\rh\\x08M\\t\\x08h\\tX\\t\\x00\\x00\\x00xmas giftq\\x0eu}q\\x0f(h\\x04X\\x04\\x00\\x00\\x00yodaq\\x10h\\x06X\\x03\\x00\\x00\\x00hanq\\x11h\\x08J?\\x16\\x04\\x00h\\tX\\x0e\\x00\\x00\\x00For the bountyq\\x12ues.\""
      ]
     },
     "execution_count": 29,
     "metadata": {},
     "output_type": "execute_result"
    }
   ],
   "source": [
    "# Return the pickled representation of the object as a bytes object, instead of writing it to a file.\n",
    "pickle.dumps(t_block)"
   ]
  },
  {
   "cell_type": "code",
   "execution_count": 30,
   "metadata": {},
   "outputs": [
    {
     "data": {
      "text/plain": [
       "'add2abf44f95512a8d13c58178b59656db2ffc235da1b66e7335e1e5845c8d8e'"
      ]
     },
     "execution_count": 30,
     "metadata": {},
     "output_type": "execute_result"
    }
   ],
   "source": [
    "# block test hash\n",
    "\n",
    "btest = hashlib.sha3_256()\n",
    "btest.update(pickle.dumps(t_block))\n",
    "btest.digest()\n",
    "btest.hexdigest()"
   ]
  },
  {
   "cell_type": "code",
   "execution_count": 31,
   "metadata": {
    "collapsed": true
   },
   "outputs": [],
   "source": [
    "# test block containing transactions\n",
    "t_block2 = {\n",
    "    'transaction' : [ \n",
    "        {\n",
    "            'from' : 'johnny',\n",
    "            'to' : 'frankie',\n",
    "            'amount' : 20257849,\n",
    "            'message' : \"Don't worry about it.\"\n",
    "            \n",
    "        },\n",
    "        {\n",
    "            'from' : 'mark',\n",
    "            'to' : 'luke',\n",
    "            'amount' : 2057,\n",
    "            'message' : 'xmas gift'\n",
    "            \n",
    "        },\n",
    "        {\n",
    "            'from' : 'yoda',\n",
    "            'to' : 'han',\n",
    "            'amount' : 267839,\n",
    "            'message' : 'For the bounty'\n",
    "            \n",
    "        },\n",
    "        \n",
    "    ]\n",
    "    \n",
    "}"
   ]
  },
  {
   "cell_type": "code",
   "execution_count": 32,
   "metadata": {},
   "outputs": [
    {
     "data": {
      "text/plain": [
       "'fd59d4c36471879af7de3af96681fb0aa868a520f267e842dedd6e91bc4dc661'"
      ]
     },
     "execution_count": 32,
     "metadata": {},
     "output_type": "execute_result"
    }
   ],
   "source": [
    "# blockchain test2 using a nefarious input\n",
    "\n",
    "nefarious  = hashlib.sha3_256()\n",
    "nefarious.update(pickle.dumps(t_block2))\n",
    "nefarious.digest()\n",
    "nefarious.hexdigest()"
   ]
  },
  {
   "cell_type": "markdown",
   "metadata": {},
   "source": [
    "### Now within the blockchain providing the hash is a fast and efficent way to check all commits to the ledger. This adds both confidence and security to the community of cryptocurrency.\n",
    "\n",
    "### Let's see how this compares to many nodes confirming the list and then try and add our nefarious test(t_block2).\n",
    "\n",
    "### You will be able to see that when quickly comparing a honest hash signatures to a nefarious hash signature, the hash is easliy distinguishable."
   ]
  },
  {
   "cell_type": "code",
   "execution_count": 33,
   "metadata": {},
   "outputs": [
    {
     "name": "stdout",
     "output_type": "stream",
     "text": [
      "add2abf44f95512a8d13c58178b59656db2ffc235da1b66e7335e1e5845c8d8e\n",
      "add2abf44f95512a8d13c58178b59656db2ffc235da1b66e7335e1e5845c8d8e\n",
      "add2abf44f95512a8d13c58178b59656db2ffc235da1b66e7335e1e5845c8d8e\n",
      "add2abf44f95512a8d13c58178b59656db2ffc235da1b66e7335e1e5845c8d8e\n",
      "add2abf44f95512a8d13c58178b59656db2ffc235da1b66e7335e1e5845c8d8e\n",
      "add2abf44f95512a8d13c58178b59656db2ffc235da1b66e7335e1e5845c8d8e\n",
      "add2abf44f95512a8d13c58178b59656db2ffc235da1b66e7335e1e5845c8d8e\n",
      "fd59d4c36471879af7de3af96681fb0aa868a520f267e842dedd6e91bc4dc661\n"
     ]
    }
   ],
   "source": [
    "# This simulates the 'honest blockchain' data\n",
    "print(btest.hexdigest())\n",
    "print(btest.hexdigest())\n",
    "print(btest.hexdigest())\n",
    "print(btest.hexdigest())\n",
    "print(btest.hexdigest())\n",
    "print(btest.hexdigest())\n",
    "print(btest.hexdigest())\n",
    "\n",
    "# this simulates someone trying to change the blockchain values for personal gain.\n",
    "# as you can see, the last entry in the block looks 'fishy'\n",
    "print(nefarious.hexdigest())\n"
   ]
  },
  {
   "cell_type": "code",
   "execution_count": 34,
   "metadata": {
    "collapsed": true
   },
   "outputs": [],
   "source": [
    "top_block = {\n",
    "    'transaction' : [ \n",
    "        {\n",
    "            'from' : 'johnny',\n",
    "            'to' : 'frankie',\n",
    "            'amount' : 20257849,\n",
    "            'message' : \"Don't worry about it.\"\n",
    "            \n",
    "        },\n",
    "        {\n",
    "            'from' : 'mark',\n",
    "            'to' : 'luke',\n",
    "            'amount' : 2057,\n",
    "            'message' : 'xmas gift'\n",
    "            \n",
    "        },\n",
    "        {\n",
    "            'from' : 'yoda',\n",
    "            'to' : 'han',\n",
    "            'amount' : 267839,\n",
    "            'message' : 'For the bounty'\n",
    "            \n",
    "        },\n",
    "        \n",
    "    ],\n",
    "    'last_block' : btest.hexdigest(),\n",
    "    'nonce' : 0\n",
    "    \n",
    "}"
   ]
  },
  {
   "cell_type": "code",
   "execution_count": 35,
   "metadata": {},
   "outputs": [
    {
     "data": {
      "text/plain": [
       "{'last_block': 'add2abf44f95512a8d13c58178b59656db2ffc235da1b66e7335e1e5845c8d8e',\n",
       " 'nonce': 0,\n",
       " 'transaction': [{'amount': 20257849,\n",
       "   'from': 'johnny',\n",
       "   'message': \"Don't worry about it.\",\n",
       "   'to': 'frankie'},\n",
       "  {'amount': 2057, 'from': 'mark', 'message': 'xmas gift', 'to': 'luke'},\n",
       "  {'amount': 267839,\n",
       "   'from': 'yoda',\n",
       "   'message': 'For the bounty',\n",
       "   'to': 'han'}]}"
      ]
     },
     "execution_count": 35,
     "metadata": {},
     "output_type": "execute_result"
    }
   ],
   "source": [
    "top_block"
   ]
  },
  {
   "cell_type": "code",
   "execution_count": 36,
   "metadata": {},
   "outputs": [
    {
     "data": {
      "text/plain": [
       "'7086dfe8e832c6731b57ced77da4050a1a876b79fe449ae45aa037a0e4bddf28'"
      ]
     },
     "execution_count": 36,
     "metadata": {},
     "output_type": "execute_result"
    }
   ],
   "source": [
    "# hashing the top block with the last transaction appended to the blockchain\n",
    "tb = hashlib.sha3_256()\n",
    "tb.update(pickle.dumps(top_block))\n",
    "tb.digest()\n",
    "tb.hexdigest()"
   ]
  },
  {
   "attachments": {
    "image.png": {
     "image/png": "[encoded data removed]"
    }
   },
   "cell_type": "markdown",
   "metadata": {},
   "source": [
    "### This next section will briefly explain 'proof of work'. In bitcoin this is a way that the miners are used in solving these complex algorithms for a prize(i.e. a bitcoin).\n",
    "\n",
    "### What proof of work does is basically present a challenge... and the answer is unknown, nobody knows what the answer is. The parameter to check the answer to the challenge is very simple and if you get the answer you will be rewarded.  This is where a 'nonce' is used.\n",
    "\n",
    "### In cryptography, a nonce is an arbitrary number that can only be used once. It is similar in spirit to a nonce word, hence the name. It is often a random or pseudo-random number issued in an authentication protocol to ensure that old communications cannot be reused in replay attacks. They can also be useful as initialization vectors and in cryptographic hash functions.\n",
    "\n",
    "![image.png](attachment:image.png)\n",
    "\n",
    "\n",
    "### There is absolutely no way to predict the answer, much like trying to produce two identical hash signatures. This is a way to prevent any false information to be injected into a blockchain and predetermining the hash signature.\n"
   ]
  },
  {
   "cell_type": "code",
   "execution_count": 37,
   "metadata": {
    "collapsed": true
   },
   "outputs": [],
   "source": [
    "# this is the actual difficulty\n",
    "# https://bitcoinwisdom.com/bitcoin/difficulty\n",
    "\n",
    "# difficulty of 1 which is arbitrary for our test( this can be dynamically changed)\n",
    "difficulty = 1\n",
    "\n",
    "# This serves as the challenge miners are trying to solve.\n",
    "challenge_string = ''.join(['0' for x in range(difficulty)])\n"
   ]
  },
  {
   "cell_type": "code",
   "execution_count": 38,
   "metadata": {},
   "outputs": [
    {
     "name": "stdout",
     "output_type": "stream",
     "text": [
      "The hash signature we are seeking must lead with: 0\n"
     ]
    }
   ],
   "source": [
    "# The system only accepts an answer that prepends with the challenge_string\n",
    "# in this case the hash signature must lead with a  single '0' (zero)\n",
    "\n",
    "print('The hash signature we are seeking must lead with: {}'.format(challenge_string))"
   ]
  },
  {
   "cell_type": "markdown",
   "metadata": {},
   "source": [
    "### So to ensure the last entry in the blockchain is valid it must have this unique nonce."
   ]
  },
  {
   "cell_type": "markdown",
   "metadata": {},
   "source": [
    "### Here is an example of how mining works"
   ]
  },
  {
   "cell_type": "code",
   "execution_count": 39,
   "metadata": {},
   "outputs": [
    {
     "name": "stdout",
     "output_type": "stream",
     "text": [
      "2 b4efe97c52919f17309cdf418aa88fbc79dba8f38692c46517035b5dd35532f8\n",
      "3 3c3703be8c16f194c661a09baf9c94c903c47554f6f5bcc0c61d43931025db57\n",
      "4 35ad7b6347d46b436c38a24b4d11f2cbfade9607345de28d4747afe79357256c\n",
      "5 29c3a17e1a0eb60f55d811d73dfaf5fb9e15146e644b7a9bc51285508e26ef55\n",
      "6 69663e26b7dd7aeaa66f6d5ccb8e9533f89bf29eed05367bdf957d1fd932f9d4\n",
      "7 19475e8feac64591197af7ee564520b9589301d19375cfe7dfd0513b19afe7a2\n",
      "8 d9ca367f1d5f7e9aa88cfb29d0fa35de9a4e6ed657c52945b969a9810a1ed851\n",
      "9 ca3774f20b390c382fe3b072612d9a9562b6d1ec894c3203bfca8cbd02c7ae4a\n",
      "10 158e91c630e756d579604a2a5bac749c0bec3ce192e26ab4088dc1b4c6ccf4ca\n",
      "11 5530a4bfc3e6f7c28207ae48d7fd84fc55c82cda306541d70118f9499dd0e49f\n",
      "12 2cc545e02ba4efedd944afa0dfc96ddb66965adfa83656f428b87a39787a35fa\n",
      "13 513d51096336475d68b926c9dcfb3c7e9606c9c7eb19f1e5382df971b83c58b1\n",
      "14 cc6eb03bee9d85ce628e49dd8520b0148d3df8838f00adc5a591d7c590761d7e\n",
      "15 3f3ba1e9dfd1255a09eee0289d30101d8f5d52022b08c034bf7178966763675a\n",
      "16 ec252d9ea475872872cc46676001d669c36d630554aee398292d76f997a7b2c9\n",
      "17 d8956854c08e127d075bf56c9ace95dc9ca24011ec03719979f231ece8e31203\n",
      "18 9d7e1b4fb5e13ad58ad1f4d689333bac173dc969347a0f16e23eb5f3db4dae10\n",
      "19 cd89341ab33001b0a5831731a866582cbaf8dbe876f99134263cbd1b2fff7b24\n",
      "20 9805be64a09864d7ced631a981c6fde56edc1b521fb88b39029ae0191ae60f61\n",
      "21 50690d4717b836b02d31e3a178e905137fba794ec54bb0a0a2de7c1d1b1e842d\n",
      "22 8e9f3cd6f98c21fd04d305853e3a79e3d42ac7ac1b4a00d6f20e154ced7137c4\n",
      "23 742bef06224d3672002d2482a2137f4cefbd7563d446167676268e83c7f39af7\n",
      "24 161b56403e8f41d7d221ae3b3072c40a85a90655d98c935996ea4e51f85a2b69\n",
      "25 531cfc96a29d4e16b61b8304be5377b8202c26cfec47a0d2bf29f359cb06e914\n",
      "26 0fa653b199d03778606e424e9d9a7d372a0aee3d9fdc12162027c8cd8e079db8\n"
     ]
    }
   ],
   "source": [
    "# set the nonce\n",
    "nonce = 1\n",
    "\n",
    "top_block['nonce'] = 1\n",
    "miner = hashlib.sha3_256()\n",
    "while miner.hexdigest()[:difficulty] != challenge_string:\n",
    "    nonce += 1\n",
    "    top_block['nonce'] = nonce\n",
    "    miner = hashlib.sha3_256()\n",
    "    miner.update(pickle.dumps(top_block))\n",
    "    print(nonce, miner.hexdigest())"
   ]
  },
  {
   "cell_type": "code",
   "execution_count": 40,
   "metadata": {},
   "outputs": [
    {
     "data": {
      "text/plain": [
       "{'last_block': 'add2abf44f95512a8d13c58178b59656db2ffc235da1b66e7335e1e5845c8d8e',\n",
       " 'nonce': 26,\n",
       " 'transaction': [{'amount': 20257849,\n",
       "   'from': 'johnny',\n",
       "   'message': \"Don't worry about it.\",\n",
       "   'to': 'frankie'},\n",
       "  {'amount': 2057, 'from': 'mark', 'message': 'xmas gift', 'to': 'luke'},\n",
       "  {'amount': 267839,\n",
       "   'from': 'yoda',\n",
       "   'message': 'For the bounty',\n",
       "   'to': 'han'}]}"
      ]
     },
     "execution_count": 40,
     "metadata": {},
     "output_type": "execute_result"
    }
   ],
   "source": [
    "# print the top_block here\n",
    "top_block"
   ]
  },
  {
   "cell_type": "code",
   "execution_count": null,
   "metadata": {
    "collapsed": true
   },
   "outputs": [],
   "source": []
  },
  {
   "cell_type": "code",
   "execution_count": null,
   "metadata": {
    "collapsed": true
   },
   "outputs": [],
   "source": []
  },
  {
   "cell_type": "code",
   "execution_count": null,
   "metadata": {
    "collapsed": true
   },
   "outputs": [],
   "source": []
  }
 ],
 "metadata": {
  "kernelspec": {
   "display_name": "Python 3",
   "language": "python",
   "name": "python3"
  },
  "language_info": {
   "codemirror_mode": {
    "name": "ipython",
    "version": 3
   },
   "file_extension": ".py",
   "mimetype": "text/x-python",
   "name": "python",
   "nbconvert_exporter": "python",
   "pygments_lexer": "ipython3",
   "version": "3.6.1"
  }
 },
 "nbformat": 4,
 "nbformat_minor": 2
}
